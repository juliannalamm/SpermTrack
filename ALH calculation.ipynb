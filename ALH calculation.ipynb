version https://git-lfs.github.com/spec/v1
oid sha256:cf455c57892db1b103d954417f6da46d423440be91fb9ab7501fabfdce0d6773
size 163814
