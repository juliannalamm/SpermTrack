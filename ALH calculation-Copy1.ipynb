version https://git-lfs.github.com/spec/v1
oid sha256:9754eec79499d7b52d02319ba7722b77f3bad3964299e334aa3cd4c9092c9ee8
size 254122
